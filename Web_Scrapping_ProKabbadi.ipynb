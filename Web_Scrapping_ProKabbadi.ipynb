{
  "nbformat": 4,
  "nbformat_minor": 0,
  "metadata": {
    "kernelspec": {
      "display_name": "Python 3",
      "language": "python",
      "name": "python3"
    },
    "language_info": {
      "codemirror_mode": {
        "name": "ipython",
        "version": 3
      },
      "file_extension": ".py",
      "mimetype": "text/x-python",
      "name": "python",
      "nbconvert_exporter": "python",
      "pygments_lexer": "ipython3",
      "version": "3.6.7"
    },
    "colab": {
      "name": "Web Scrapping ProKabbadi.ipynb",
      "provenance": []
    }
  },
  "cells": [
    {
      "cell_type": "code",
      "metadata": {
        "id": "9z_FZXJwUc1y",
        "colab_type": "code",
        "colab": {}
      },
      "source": [
        "# import libraries\n",
        "from bs4 import BeautifulSoup\n",
        "import urllib.request\n",
        "import csv\n",
        "import json\n",
        "import pandas as pd"
      ],
      "execution_count": 0,
      "outputs": []
    },
    {
      "cell_type": "code",
      "metadata": {
        "id": "FyfpTq4LUc15",
        "colab_type": "code",
        "colab": {}
      },
      "source": [
        "## Scraping player data\n",
        "metrics = [102,21,22,23,103,138,139,132,104,28,100,101]\n",
        "seasons = [0,1,2,3,4,8,26,49]\n",
        "url = []\n",
        "\n",
        "def scrap_data_from_url(soup,season):\n",
        "    json_dict = json.loads(str(soup))\n",
        "    filename = json_dict['stat']\n",
        "    out_df = pd.DataFrame.from_dict(json_dict['data'])\n",
        "    out_df.to_csv(filename+'_'+str(season)+'.csv',index=False)\n",
        "    \n",
        "for i in metrics:\n",
        "    for j in seasons:\n",
        "        url = 'https://www.prokabaddi.com/sifeeds/kabaddi/static/json/1_'+str(j)+'_'+str(i)+'_stats.json'\n",
        "        page = urllib.request.urlopen(url)\n",
        "        soup = BeautifulSoup(page)\n",
        "        scrap_data_from_url(soup,j)"
      ],
      "execution_count": 0,
      "outputs": []
    },
    {
      "cell_type": "code",
      "metadata": {
        "id": "iWjE8R2gUc19",
        "colab_type": "code",
        "colab": {}
      },
      "source": [
        "## Scraping team data\n",
        "metrics = [96,133,140,13,97,98,15,95,99,134,20,135,136,137]\n",
        "seasons = [0,1,2,3,4,8,26,49]\n",
        "url = []\n",
        "\n",
        "def scrap_data_from_url(soup,season):\n",
        "    json_dict = json.loads(str(soup))\n",
        "    filename = json_dict['stat']\n",
        "    out_df = pd.DataFrame.from_dict(json_dict['data'])\n",
        "    out_df.to_csv(filename+'_'+str(season)+'.csv',index=False)\n",
        "    \n",
        "for i in metrics:\n",
        "    for j in seasons:\n",
        "        url = 'https://www.prokabaddi.com/sifeeds/kabaddi/static/json/1_'+str(j)+'_'+str(i)+'_stats.json'\n",
        "        page = urllib.request.urlopen(url)\n",
        "        soup = BeautifulSoup(page)\n",
        "        scrap_data_from_url(soup,j)"
      ],
      "execution_count": 0,
      "outputs": []
    },
    {
      "cell_type": "code",
      "metadata": {
        "id": "7k9GslkAUc2A",
        "colab_type": "code",
        "colab": {}
      },
      "source": [
        "## Scraping team data\n",
        "# https://www.prokabaddi.com/sifeeds/kabaddi/static/json/49_4_squad.json\n",
        "    \n",
        "teams = [1,2,3,4,5,6,7,8,28,29,30,31]\n",
        "seasons = [49]\n",
        "url = []\n",
        "\n",
        "def scrap_data_from_url(soup,season):\n",
        "    json_dict = json.loads(str(soup))\n",
        "    out_df = pd.DataFrame.from_dict(json_dict['squads']['squad']['players'])\n",
        "    out_df.to_csv('team_data'+'_'+str(season)+'.csv',index=False)\n",
        "    \n",
        "for i in seasons:\n",
        "    for j in teams:\n",
        "        url = 'https://www.prokabaddi.com/sifeeds/kabaddi/static/json/'+str(i)+'_'+str(j)+'_squad.json'\n",
        "        page = urllib.request.urlopen(url)\n",
        "        soup = BeautifulSoup(page)\n",
        "        scrap_data_from_url(soup,j)"
      ],
      "execution_count": 0,
      "outputs": []
    },
    {
      "cell_type": "code",
      "metadata": {
        "id": "rXgFbvQbUc2D",
        "colab_type": "code",
        "colab": {},
        "outputId": "8632089b-4fc9-4fab-e8b2-53fc83571b9d"
      },
      "source": [
        "import os\n",
        "import glob\n",
        "\n",
        "#path = 'C:\\\\Users\\\\vimal.p\\\\OneDrive - Subex Limited\\\\Work\\\\Github Local\\\\UpGrad-Hackathon\\\\season7TeamData\\\\Team'\n",
        "extension = 'csv'\n",
        "#os.chdir(path)\n",
        "result = glob.glob('*.{}'.format(extension))\n",
        "print(result)"
      ],
      "execution_count": 0,
      "outputs": [
        {
          "output_type": "stream",
          "text": [
            "['team_data_1.csv', 'team_data_2.csv', 'team_data_28.csv', 'team_data_29.csv', 'team_data_3.csv', 'team_data_30.csv', 'team_data_31.csv', 'team_data_4.csv', 'team_data_5.csv', 'team_data_6.csv', 'team_data_7.csv', 'team_data_8.csv']\n"
          ],
          "name": "stdout"
        }
      ]
    },
    {
      "cell_type": "code",
      "metadata": {
        "id": "2vb2bcCLUc2G",
        "colab_type": "code",
        "colab": {}
      },
      "source": [
        "li = []\n",
        "\n",
        "for filename in result:\n",
        "    df = pd.read_csv(filename, index_col=None, header=0)\n",
        "    li.append(df)\n",
        "\n",
        "frame = pd.concat(li, axis=0, ignore_index=True)\n",
        "frame.to_csv('All_Players_season_7.csv')"
      ],
      "execution_count": 0,
      "outputs": []
    },
    {
      "cell_type": "code",
      "metadata": {
        "id": "RmfXAPNiUc2I",
        "colab_type": "code",
        "colab": {},
        "outputId": "55e35c74-8131-43d1-c286-9ae1dc627cb3"
      },
      "source": [
        "frame.head()"
      ],
      "execution_count": 0,
      "outputs": [
        {
          "output_type": "execute_result",
          "data": {
            "text/html": [
              "<div>\n",
              "<style scoped>\n",
              "    .dataframe tbody tr th:only-of-type {\n",
              "        vertical-align: middle;\n",
              "    }\n",
              "\n",
              "    .dataframe tbody tr th {\n",
              "        vertical-align: top;\n",
              "    }\n",
              "\n",
              "    .dataframe thead th {\n",
              "        text-align: right;\n",
              "    }\n",
              "</style>\n",
              "<table border=\"1\" class=\"dataframe\">\n",
              "  <thead>\n",
              "    <tr style=\"text-align: right;\">\n",
              "      <th></th>\n",
              "      <th>country_id</th>\n",
              "      <th>country_name</th>\n",
              "      <th>date_of_birth</th>\n",
              "      <th>full_name</th>\n",
              "      <th>gender</th>\n",
              "      <th>is_captain</th>\n",
              "      <th>jersey_no</th>\n",
              "      <th>name</th>\n",
              "      <th>player_id</th>\n",
              "      <th>position_id</th>\n",
              "      <th>position_name</th>\n",
              "      <th>short_name</th>\n",
              "    </tr>\n",
              "  </thead>\n",
              "  <tbody>\n",
              "    <tr>\n",
              "      <th>0</th>\n",
              "      <td>4</td>\n",
              "      <td>India</td>\n",
              "      <td>1990-01-19</td>\n",
              "      <td>Rohit Kumar</td>\n",
              "      <td>m</td>\n",
              "      <td>1</td>\n",
              "      <td>9</td>\n",
              "      <td>Rohit Kumar</td>\n",
              "      <td>326</td>\n",
              "      <td>8</td>\n",
              "      <td>Raider</td>\n",
              "      <td>Rohit Kumar</td>\n",
              "    </tr>\n",
              "    <tr>\n",
              "      <th>1</th>\n",
              "      <td>4</td>\n",
              "      <td>India</td>\n",
              "      <td>2000-11-10</td>\n",
              "      <td>Banty</td>\n",
              "      <td>m</td>\n",
              "      <td>0</td>\n",
              "      <td>5</td>\n",
              "      <td>Banty</td>\n",
              "      <td>2503</td>\n",
              "      <td>8</td>\n",
              "      <td>Raider</td>\n",
              "      <td>Banty</td>\n",
              "    </tr>\n",
              "    <tr>\n",
              "      <th>2</th>\n",
              "      <td>170</td>\n",
              "      <td>Nepal</td>\n",
              "      <td>1991-02-01</td>\n",
              "      <td>Lal Mohar Yadav</td>\n",
              "      <td>m</td>\n",
              "      <td>0</td>\n",
              "      <td>99</td>\n",
              "      <td>Lal Mohar Yadav</td>\n",
              "      <td>589</td>\n",
              "      <td>8</td>\n",
              "      <td>Raider</td>\n",
              "      <td>Lal Mohar Yadav</td>\n",
              "    </tr>\n",
              "    <tr>\n",
              "      <th>3</th>\n",
              "      <td>4</td>\n",
              "      <td>India</td>\n",
              "      <td>1996-07-09</td>\n",
              "      <td>Pawan Sehrawat</td>\n",
              "      <td>m</td>\n",
              "      <td>0</td>\n",
              "      <td>17</td>\n",
              "      <td>Pawan Kumar Sehrawat</td>\n",
              "      <td>318</td>\n",
              "      <td>8</td>\n",
              "      <td>Raider</td>\n",
              "      <td>Pawan Sehrawat</td>\n",
              "    </tr>\n",
              "    <tr>\n",
              "      <th>4</th>\n",
              "      <td>4</td>\n",
              "      <td>India</td>\n",
              "      <td>1996-06-15</td>\n",
              "      <td>Sumit Singh</td>\n",
              "      <td>m</td>\n",
              "      <td>0</td>\n",
              "      <td>7</td>\n",
              "      <td>Sumit Singh</td>\n",
              "      <td>363</td>\n",
              "      <td>8</td>\n",
              "      <td>Raider</td>\n",
              "      <td>Sumit Singh</td>\n",
              "    </tr>\n",
              "  </tbody>\n",
              "</table>\n",
              "</div>"
            ],
            "text/plain": [
              "   country_id country_name date_of_birth        full_name gender  is_captain  \\\n",
              "0           4        India    1990-01-19      Rohit Kumar      m           1   \n",
              "1           4        India    2000-11-10            Banty      m           0   \n",
              "2         170        Nepal    1991-02-01  Lal Mohar Yadav      m           0   \n",
              "3           4        India    1996-07-09   Pawan Sehrawat      m           0   \n",
              "4           4        India    1996-06-15      Sumit Singh      m           0   \n",
              "\n",
              "   jersey_no                  name  player_id  position_id position_name  \\\n",
              "0          9           Rohit Kumar        326            8        Raider   \n",
              "1          5                 Banty       2503            8        Raider   \n",
              "2         99       Lal Mohar Yadav        589            8        Raider   \n",
              "3         17  Pawan Kumar Sehrawat        318            8        Raider   \n",
              "4          7           Sumit Singh        363            8        Raider   \n",
              "\n",
              "        short_name  \n",
              "0      Rohit Kumar  \n",
              "1            Banty  \n",
              "2  Lal Mohar Yadav  \n",
              "3   Pawan Sehrawat  \n",
              "4      Sumit Singh  "
            ]
          },
          "metadata": {
            "tags": []
          },
          "execution_count": 8
        }
      ]
    },
    {
      "cell_type": "code",
      "metadata": {
        "id": "Tbl548AMUc2M",
        "colab_type": "code",
        "colab": {}
      },
      "source": [
        "players = frame.player_id.unique()"
      ],
      "execution_count": 0,
      "outputs": []
    },
    {
      "cell_type": "code",
      "metadata": {
        "id": "Crx4L4VVUc2P",
        "colab_type": "code",
        "colab": {},
        "outputId": "7d056fe3-39c1-46e4-f7e6-370803425c85"
      },
      "source": [
        "len(players)"
      ],
      "execution_count": 0,
      "outputs": [
        {
          "output_type": "execute_result",
          "data": {
            "text/plain": [
              "220"
            ]
          },
          "metadata": {
            "tags": []
          },
          "execution_count": 9
        }
      ]
    },
    {
      "cell_type": "code",
      "metadata": {
        "id": "BCbvvA8AUc2R",
        "colab_type": "code",
        "colab": {},
        "outputId": "396cb193-e8e2-425d-d360-fa0726ccaf75"
      },
      "source": [
        "players"
      ],
      "execution_count": 0,
      "outputs": [
        {
          "output_type": "execute_result",
          "data": {
            "text/plain": [
              "array([ 326, 2503,  589,  318,  363,  387, 2502,   87,  768,  769, 2501,\n",
              "        299, 2670, 2353,  794, 2471,  202,   15,  194, 2474,   36, 2296,\n",
              "       2491, 2473,  655,  123, 2490,  157,  311,  481, 2489, 2668,  361,\n",
              "       2669,  251,  745,   42, 2372, 2318, 2357,  155,  264, 2515,  366,\n",
              "       2488,  240,  179, 2462, 2463, 2487, 2351, 2514,  732,  335,   26,\n",
              "       2325,   81,  105, 2508,  268, 2282, 2512, 2506, 2481, 2493,   71,\n",
              "       2659, 2423, 2480,   69,  160, 2257,   41, 2475,  211, 2497,  599,\n",
              "       2263,  293, 2498, 2496,  212, 2665, 2495,  290,  613,  515,  791,\n",
              "       2494,  676,  735,  725, 2321, 2316,  647, 2262,  388,   94,  106,\n",
              "       2286,  234, 2657, 2482, 2020, 2330, 2297, 2041,  567,  778,  218,\n",
              "        686,  300,   46, 2666, 2306,  772,  757, 2485,  793, 2667,  357,\n",
              "       2672, 2023,  368,  665,  554,  764,  143,  219,  509,  204,  370,\n",
              "        111, 2671, 2513,  621,   54,  784, 2470,   43,  796, 2264, 2499,\n",
              "        484,  578, 2681, 2680,  259, 2028, 2024,  376,  522, 2313, 2656,\n",
              "        261,  172,   84, 2334, 2345, 2486,  519,  733, 2025, 2320,  142,\n",
              "        197, 2504,   12,  571, 2505,  795, 2268, 2478, 2663, 2346,  637,\n",
              "        579,  390, 2507,  249, 2644, 2664,  121,  322, 2291,  324, 2376,\n",
              "        763,  320, 2661,  156,  718, 2660,  694, 2492,  301, 2479, 2662,\n",
              "        161, 2682,  347,  731,  489,  214, 2322, 2307, 2299, 2683, 2290,\n",
              "        684, 2026,  115, 2658, 2510, 2509,  191,  274,  358, 2298,  482],\n",
              "      dtype=int64)"
            ]
          },
          "metadata": {
            "tags": []
          },
          "execution_count": 10
        }
      ]
    },
    {
      "cell_type": "code",
      "metadata": {
        "id": "T1a5wB09Uc2U",
        "colab_type": "code",
        "colab": {}
      },
      "source": [
        "players = [143]"
      ],
      "execution_count": 0,
      "outputs": []
    },
    {
      "cell_type": "code",
      "metadata": {
        "id": "4Ztj567gUc2W",
        "colab_type": "code",
        "colab": {}
      },
      "source": [
        "def scrap_data_from_url(soup,season):\n",
        "    json_dict = json.loads(str(soup))\n",
        "#     print(json_dict.keys())\n",
        "#     print(json_dict['over_all_stats'])\n",
        "    out_df = pd.DataFrame.from_dict(json_dict['over_all_stats'])\n",
        "    out_df.to_csv('player_data'+'_'+str(season)+'.csv',index=False)\n",
        "    \n",
        "for i in players:\n",
        "    url = 'https://www.prokabaddi.com/sifeeds/kabaddi/static/json/'+str(i)+'_player.json'\n",
        "    page = urllib.request.urlopen(url)\n",
        "    soup = BeautifulSoup(page)\n",
        "    scrap_data_from_url(soup,i)"
      ],
      "execution_count": 0,
      "outputs": []
    },
    {
      "cell_type": "code",
      "metadata": {
        "id": "AvZ3x2SSUc2Z",
        "colab_type": "code",
        "colab": {}
      },
      "source": [
        ""
      ],
      "execution_count": 0,
      "outputs": []
    }
  ]
}